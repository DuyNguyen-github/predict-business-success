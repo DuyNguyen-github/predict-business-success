{
 "cells": [
  {
   "cell_type": "code",
   "execution_count": 7,
   "metadata": {
    "id": "XRr1MR4qJGBQ"
   },
   "outputs": [],
   "source": [
    "import numpy as np\n",
    "import pandas as pd\n",
    "import matplotlib.pyplot as plt\n",
    "import seaborn as sns\n",
    "import tensorflow as tf\n",
    "from tensorflow import keras\n",
    "\n",
    "from sklearn.model_selection import train_test_split\n",
    "from sklearn.preprocessing import StandardScaler\n",
    "from sklearn.linear_model import LogisticRegression\n",
    "from sklearn.ensemble import StackingClassifier\n",
    "from sklearn.metrics import classification_report, precision_score, f1_score, roc_auc_score, confusion_matrix\n",
    "from xgboost import XGBClassifier\n",
    "\n",
    "from sklearn.base import BaseEstimator, ClassifierMixin\n",
    "\n",
    "class KerasDenseModel(BaseEstimator, ClassifierMixin):\n",
    "    def __init__(self, input_dim, epochs=40, batch_size=32, verbose=0):\n",
    "        self.input_dim = input_dim\n",
    "        self.epochs = epochs\n",
    "        self.batch_size = batch_size\n",
    "        self.verbose = verbose\n",
    "        self.model_ = None\n",
    "        self.classes_ = None\n",
    "\n",
    "    def build_model(self):\n",
    "        model = keras.Sequential([\n",
    "            keras.layers.Input(shape=(self.input_dim,)),\n",
    "            keras.layers.Dense(512),\n",
    "            keras.layers.BatchNormalization(),\n",
    "            keras.layers.ReLU(),\n",
    "            keras.layers.Dropout(0.2),\n",
    "            keras.layers.Dense(256),\n",
    "            keras.layers.BatchNormalization(),\n",
    "            keras.layers.ReLU(),\n",
    "            keras.layers.Dense(1, activation='sigmoid')\n",
    "        ])\n",
    "        model.compile(\n",
    "            optimizer=keras.optimizers.Adam(learning_rate=0.001),\n",
    "            loss='binary_crossentropy',\n",
    "            metrics=['accuracy']\n",
    "        )\n",
    "        return model\n",
    "\n",
    "    def fit(self, X, y):\n",
    "        # Chuyển đổi X, y sang NumPy array nếu cần\n",
    "        if isinstance(X, pd.DataFrame):\n",
    "            X_processed = X.values\n",
    "        else:\n",
    "            X_processed = X\n",
    "\n",
    "        if isinstance(y, pd.Series):\n",
    "            y_processed = y.values\n",
    "        else:\n",
    "            y_processed = y\n",
    "\n",
    "        # Lưu trữ các lớp duy nhất từ y\n",
    "        self.classes_ = np.unique(y_processed)\n",
    "\n",
    "        self.model_ = self.build_model()\n",
    "        self.model_.fit(\n",
    "            X_processed, y_processed,\n",
    "            epochs=self.epochs,\n",
    "            batch_size=self.batch_size,\n",
    "            verbose=self.verbose\n",
    "        )\n",
    "        return self\n",
    "\n",
    "    def predict(self, X):\n",
    "        if isinstance(X, pd.DataFrame):\n",
    "            X_processed = X.values\n",
    "        else:\n",
    "            X_processed = X\n",
    "        proba = self.model_.predict(X_processed).ravel()\n",
    "        return (proba > 0.5).astype(int)\n",
    "\n",
    "    def predict_proba(self, X):\n",
    "        if isinstance(X, pd.DataFrame):\n",
    "            X_processed = X.values\n",
    "        else:\n",
    "            X_processed = X\n",
    "        proba = self.model_.predict(X_processed).ravel()\n",
    "        # Trả về xác suất cho cả hai lớp (0 và 1)\n",
    "        # StackingClassifier mong đợi định dạng (n_samples, n_classes)\n",
    "        return np.vstack([1 - proba, proba]).T\n",
    "\n",
    "# --- Load và chuẩn bị dữ liệu ---\n",
    "df = pd.read_csv(\"/content/final_features_full.csv\")\n",
    "\n",
    "X = df.drop(\"label\", axis=1)\n",
    "y = df[\"label\"]\n",
    "\n",
    "columns_to_scale = [\n",
    "    'raised_amount_usd', 'funding_total_usd', 'raised_amount_m', 'raised_amount_b',\n",
    "    'raised_amount_k', 'num_investors', 'success_rate', 'failure_rate', 'success_amount',\n",
    "    'fail_amount', 'total_amount', 'avg_funding_per_investor', 'num_of_success_companies',\n",
    "    'num_of_failed_companies', 'funded_at_year', 'funded_at_month', 'funded_at_day',\n",
    "    'funding_total_m', 'funding_total_b', 'funding_total_k', 'company_age', 'funding_duration_days',\n",
    "    'avg_funding_duration_per_round', 'funding_duration_months', 'funding_duration_years',\n",
    "    'founded_at_year', 'founded_at_month', 'founded_at_day', 'first_funding_year',\n",
    "    'first_funding_month', 'first_funding_day', 'last_funding_year', 'last_funding_month',\n",
    "    'last_funding_day', 'top_past_sector', 'top_current_sector', 'top_future_sector', 'funding_frequency'\n",
    "]\n",
    "\n",
    "# Kiểm tra xem các cột cần scale có tồn tại trong DataFrame không\n",
    "missing_cols = [col for col in columns_to_scale if col not in X.columns]\n",
    "if missing_cols:\n",
    "    print(f\"Lỗi: Các cột sau không tìm thấy trong DataFrame X: {missing_cols}\")\n",
    "    exit()\n",
    "\n",
    "scaler = StandardScaler()\n",
    "X_scaled_part = pd.DataFrame(scaler.fit_transform(X[columns_to_scale]), columns=columns_to_scale, index=X.index) # Thêm index để join chính xác\n",
    "X_remaining = X.drop(columns=columns_to_scale)\n",
    "# Nối lại, đảm bảo index được giữ nguyên hoặc reset đồng bộ\n",
    "X_final = pd.concat([X_scaled_part, X_remaining], axis=1)\n",
    "\n",
    "X_train, X_test, y_train, y_test = train_test_split(X_final, y, test_size=0.2, random_state=42, stratify=y) # Thêm stratify=y nếu y không cân bằng"
   ]
  },
  {
   "cell_type": "code",
   "execution_count": 8,
   "metadata": {
    "id": "kxWmsYY2JF_x"
   },
   "outputs": [],
   "source": [
    "# --- Khởi tạo base learners ---\n",
    "input_dim = X_train.shape[1]\n",
    "keras_clf = KerasDenseModel(input_dim=input_dim, epochs=40, batch_size=32, verbose=0)\n",
    "\n",
    "base_learners = [\n",
    "    ('xgb', XGBClassifier(eval_metric='logloss', use_label_encoder=False, random_state=42)),\n",
    "    ('lr', LogisticRegression(max_iter=200, random_state=42)),\n",
    "    ('dnn', keras_clf) # keras_clf đã được khởi tạo ở trên\n",
    "]\n",
    "\n",
    "meta_learner = LogisticRegression(random_state=42)\n",
    "\n",
    "stacking_model = StackingClassifier(\n",
    "    estimators=base_learners,\n",
    "    final_estimator=meta_learner,\n",
    "    cv=5,\n",
    "    n_jobs=-1\n",
    ")"
   ]
  },
  {
   "cell_type": "code",
   "execution_count": 9,
   "metadata": {
    "colab": {
     "base_uri": "https://localhost:8080/"
    },
    "id": "-jCNAQ1FJF92",
    "outputId": "3e9e2a61-c5da-4886-be26-ff18bbfb7dab"
   },
   "outputs": [
    {
     "name": "stdout",
     "output_type": "stream",
     "text": [
      "Bắt đầu huấn luyện Stacking model...\n"
     ]
    },
    {
     "name": "stderr",
     "output_type": "stream",
     "text": [
      "/usr/local/lib/python3.11/dist-packages/joblib/externals/loky/process_executor.py:782: UserWarning: A worker stopped while some jobs were given to the executor. This can be caused by a too short worker timeout or by a memory leak.\n",
      "  warnings.warn(\n"
     ]
    },
    {
     "name": "stdout",
     "output_type": "stream",
     "text": [
      "Huấn luyện xong!\n"
     ]
    }
   ],
   "source": [
    "# --- Huấn luyện stacking ---\n",
    "print(\"Bắt đầu huấn luyện Stacking model...\")\n",
    "stacking_model.fit(X_train, y_train)\n",
    "print(\"Huấn luyện xong!\")"
   ]
  },
  {
   "cell_type": "code",
   "execution_count": 10,
   "metadata": {
    "colab": {
     "base_uri": "https://localhost:8080/",
     "height": 688
    },
    "id": "heYOUg-kJGhB",
    "outputId": "fb21ffb3-0838-4b39-d407-fe8af5856b60",
    "scrolled": true
   },
   "outputs": [
    {
     "name": "stdout",
     "output_type": "stream",
     "text": [
      "\u001b[1m153/153\u001b[0m \u001b[32m━━━━━━━━━━━━━━━━━━━━\u001b[0m\u001b[37m\u001b[0m \u001b[1m1s\u001b[0m 4ms/step\n",
      "\u001b[1m153/153\u001b[0m \u001b[32m━━━━━━━━━━━━━━━━━━━━\u001b[0m\u001b[37m\u001b[0m \u001b[1m1s\u001b[0m 3ms/step\n",
      "\n",
      "Stacking Classification Report:\n",
      "               precision    recall  f1-score   support\n",
      "\n",
      "         0.0       0.88      0.83      0.85       960\n",
      "         1.0       0.96      0.97      0.97      3933\n",
      "\n",
      "    accuracy                           0.94      4893\n",
      "   macro avg       0.92      0.90      0.91      4893\n",
      "weighted avg       0.94      0.94      0.94      4893\n",
      "\n",
      "Precision: 0.9595579000251193\n",
      "F1 Score: 0.9653778114733383\n",
      "AUC: 0.9815903360454276\n"
     ]
    },
    {
     "data": {
      "image/png": "[encoded data removed]",
      "text/plain": [
       "<Figure size 600x400 with 2 Axes>"
      ]
     },
     "metadata": {},
     "output_type": "display_data"
    }
   ],
   "source": [
    "# --- Dự đoán ---\n",
    "y_pred_stack = stacking_model.predict(X_test)\n",
    "y_proba_stack = stacking_model.predict_proba(X_test)[:, 1] # Lấy xác suất của lớp dương (1)\n",
    "\n",
    "# --- Đánh giá ---\n",
    "print(\"\\nStacking Classification Report:\\n\", classification_report(y_test, y_pred_stack))\n",
    "print(\"Precision:\", precision_score(y_test, y_pred_stack))\n",
    "print(\"F1 Score:\", f1_score(y_test, y_pred_stack))\n",
    "print(\"AUC:\", roc_auc_score(y_test, y_proba_stack))\n",
    "\n",
    "# --- Ma trận nhầm lẫn ---\n",
    "cm = confusion_matrix(y_test, y_pred_stack)\n",
    "plt.figure(figsize=(6,4))\n",
    "sns.heatmap(cm, annot=True, fmt='d', cmap='Blues', xticklabels=keras_clf.classes_ if keras_clf.classes_ is not None else ['Pred 0', 'Pred 1'], yticklabels=keras_clf.classes_ if keras_clf.classes_ is not None else ['True 0', 'True 1'])\n",
    "plt.xlabel('Predicted')\n",
    "plt.ylabel('True')\n",
    "plt.title('Confusion Matrix - Stacking')\n",
    "plt.show()"
   ]
  }
 ],
 "metadata": {
  "colab": {
   "provenance": []
  },
  "kernelspec": {
   "display_name": "Python [conda env:base] *",
   "language": "python",
   "name": "conda-base-py"
  },
  "language_info": {
   "codemirror_mode": {
    "name": "ipython",
    "version": 3
   },
   "file_extension": ".py",
   "mimetype": "text/x-python",
   "name": "python",
   "nbconvert_exporter": "python",
   "pygments_lexer": "ipython3",
   "version": "3.12.7"
  }
 },
 "nbformat": 4,
 "nbformat_minor": 4
}
